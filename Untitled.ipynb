{
 "cells": [
  {
   "cell_type": "code",
   "execution_count": 8,
   "id": "d1a2a0b5",
   "metadata": {},
   "outputs": [
    {
     "name": "stdout",
     "output_type": "stream",
     "text": [
      "False\n",
      "21\n",
      "Python Course\n"
     ]
    }
   ],
   "source": [
    "def chechNumberic(*args):\n",
    "    out_put = True\n",
    "    for x in args:\n",
    "        if not isinstance(x, (int,float)):\n",
    "            return False\n",
    "    return True \n",
    "def addvalue(*args):\n",
    "    s = 0\n",
    "    for x in args:\n",
    "        s+=x\n",
    "    return s\n",
    "my_name = \"Python Course\"\n",
    "print(chechNumberic(2,\"5\",4,6,4.))\n",
    "print(addvalue(3,5,6,7))\n",
    "print(my_name)"
   ]
  },
  {
   "cell_type": "code",
   "execution_count": 4,
   "id": "7cb02376",
   "metadata": {},
   "outputs": [],
   "source": [
    "def findMin(L):\n",
    "    m = L[0]\n",
    "    indx = 0\n",
    "    counter = 0\n",
    "    for x  in L:\n",
    "        if x <m:\n",
    "            m = x\n",
    "            indx = counter\n",
    "        else: \n",
    "            pass \n",
    "        counter+=1\n",
    "    return m ,indx"
   ]
  },
  {
   "cell_type": "code",
   "execution_count": 5,
   "id": "48b2f9e7",
   "metadata": {},
   "outputs": [
    {
     "name": "stdout",
     "output_type": "stream",
     "text": [
      "0 3\n"
     ]
    }
   ],
   "source": [
    "a,b = findMin([2,3,4,0,9])\n",
    "print(a,b)"
   ]
  },
  {
   "cell_type": "code",
   "execution_count": 8,
   "id": "d5054689",
   "metadata": {},
   "outputs": [],
   "source": [
    "def swapvalues(L, index1, index2):\n",
    "    tmp = L[index1]\n",
    "    L[index1] = L[index2]\n",
    "    L[index2] = tmp\n",
    "    return L"
   ]
  },
  {
   "cell_type": "code",
   "execution_count": 9,
   "id": "0cee0090",
   "metadata": {},
   "outputs": [
    {
     "name": "stdout",
     "output_type": "stream",
     "text": [
      "[2, 7, 6, 3]\n"
     ]
    }
   ],
   "source": [
    "L = [2,3,6,7]\n",
    "L2 = swapvalues(L, 1, 3)\n",
    "print(L2)"
   ]
  },
  {
   "cell_type": "code",
   "execution_count": null,
   "id": "ba9b2324",
   "metadata": {},
   "outputs": [],
   "source": [
    "def sorting(L):\n",
    "    "
   ]
  }
 ],
 "metadata": {
  "kernelspec": {
   "display_name": "Python 3",
   "language": "python",
   "name": "python3"
  },
  "language_info": {
   "codemirror_mode": {
    "name": "ipython",
    "version": 3
   },
   "file_extension": ".py",
   "mimetype": "text/x-python",
   "name": "python",
   "nbconvert_exporter": "python",
   "pygments_lexer": "ipython3",
   "version": "3.6.8"
  }
 },
 "nbformat": 4,
 "nbformat_minor": 5
}
